{
 "cells": [
  {
   "cell_type": "code",
   "execution_count": 1,
   "metadata": {},
   "outputs": [
    {
     "ename": "FileNotFoundError",
     "evalue": "[Errno 2] No such file or directory: '/home/leo/Downloads/10.1: Tuples are Immutable - Engineering LibreTexts.html'",
     "output_type": "error",
     "traceback": [
      "\u001b[0;31m---------------------------------------------------------------------------\u001b[0m",
      "\u001b[0;31mFileNotFoundError\u001b[0m                         Traceback (most recent call last)",
      "\u001b[0;32m<ipython-input-1-ae4843213014>\u001b[0m in \u001b[0;36m<module>\u001b[0;34m\u001b[0m\n\u001b[1;32m      5\u001b[0m \u001b[0;31m#   response = urllib.request.urlopen(url)\u001b[0m\u001b[0;34m\u001b[0m\u001b[0;34m\u001b[0m\u001b[0;34m\u001b[0m\u001b[0m\n\u001b[1;32m      6\u001b[0m \u001b[0;31m#  for local html file\u001b[0m\u001b[0;34m\u001b[0m\u001b[0;34m\u001b[0m\u001b[0;34m\u001b[0m\u001b[0m\n\u001b[0;32m----> 7\u001b[0;31m \u001b[0mresponse\u001b[0m \u001b[0;34m=\u001b[0m \u001b[0mopen\u001b[0m\u001b[0;34m(\u001b[0m\u001b[0;34m\"/home/leo/Downloads/10.1: Tuples are Immutable - Engineering LibreTexts.html\"\u001b[0m\u001b[0;34m)\u001b[0m\u001b[0;34m\u001b[0m\u001b[0;34m\u001b[0m\u001b[0m\n\u001b[0m\u001b[1;32m      8\u001b[0m \u001b[0mtext\u001b[0m \u001b[0;34m=\u001b[0m \u001b[0mresponse\u001b[0m\u001b[0;34m.\u001b[0m\u001b[0mread\u001b[0m\u001b[0;34m(\u001b[0m\u001b[0;34m)\u001b[0m\u001b[0;34m\u001b[0m\u001b[0;34m\u001b[0m\u001b[0m\n\u001b[1;32m      9\u001b[0m \u001b[0;34m\u001b[0m\u001b[0m\n",
      "\u001b[0;31mFileNotFoundError\u001b[0m: [Errno 2] No such file or directory: '/home/leo/Downloads/10.1: Tuples are Immutable - Engineering LibreTexts.html'"
     ]
    }
   ],
   "source": [
    "from bs4 import BeautifulSoup\n",
    "import json\n",
    "import urllib.request\n",
    "#   url = 'http://nbviewer.jupyter.org/url/jakevdp.github.com/downloads/notebooks/XKCD_plots.ipynb'\n",
    "#   response = urllib.request.urlopen(url)\n",
    "#  for local html file\n",
    "response = open(\"/home/leo/Downloads/10.1: Tuples are Immutable - Engineering LibreTexts.html\")\n",
    "text = response.read()\n",
    "\n",
    "soup = BeautifulSoup(text, 'lxml')\n",
    "# see some of the html\n",
    "print(soup.div)\n",
    "dictionary = {'nbformat': 4, 'nbformat_minor': 1, 'cells': [], 'metadata': {}}\n",
    "for d in soup.findAll(\"div\"):\n",
    "    if 'class' in d.attrs.keys():\n",
    "        for clas in d.attrs[\"class\"]:\n",
    "            if clas in [\"text_cell_render\", \"input_area\"]:\n",
    "                # code cell\n",
    "                if clas == \"input_area\":\n",
    "                    cell = {}\n",
    "                    cell['metadata'] = {}\n",
    "                    cell['outputs'] = []\n",
    "                    cell['source'] = [d.get_text()]\n",
    "                    cell['execution_count'] = None\n",
    "                    cell['cell_type'] = 'code'\n",
    "                    dictionary['cells'].append(cell)\n",
    "\n",
    "                else:\n",
    "                    cell = {}\n",
    "                    cell['metadata'] = {}\n",
    "\n",
    "                    cell['source'] = [d.decode_contents()]\n",
    "                    cell['cell_type'] = 'markdown'\n",
    "                    dictionary['cells'].append(cell)\n",
    "open('notebook.ipynb', 'w').write(json.dumps(dictionary))"
   ]
  },
  {
   "cell_type": "code",
   "execution_count": null,
   "metadata": {},
   "outputs": [],
   "source": []
  }
 ],
 "metadata": {
  "kernelspec": {
   "display_name": "Python 3",
   "language": "python",
   "name": "python3"
  },
  "language_info": {
   "codemirror_mode": {
    "name": "ipython",
    "version": 3
   },
   "file_extension": ".py",
   "mimetype": "text/x-python",
   "name": "python",
   "nbconvert_exporter": "python",
   "pygments_lexer": "ipython3",
   "version": "3.7.3"
  }
 },
 "nbformat": 4,
 "nbformat_minor": 2
}
