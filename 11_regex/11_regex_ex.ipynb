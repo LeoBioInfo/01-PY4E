{
 "cells": [
  {
   "cell_type": "code",
   "execution_count": 40,
   "metadata": {},
   "outputs": [
    {
     "name": "stdout",
     "output_type": "stream",
     "text": [
      "440746\n"
     ]
    }
   ],
   "source": [
    "import re\n",
    "hand = open('regex_sum_237566.txt')\n",
    "l=[]\n",
    "for line in hand:\n",
    "    x = re.findall('([0-9]+)', line)\n",
    "    if len(x) > 0:\n",
    "        for i in x:\n",
    "            l.append(int(i))\n",
    "print(sum(l))"
   ]
  }
 ],
 "metadata": {
  "kernelspec": {
   "display_name": "Python 3",
   "language": "python",
   "name": "python3"
  },
  "language_info": {
   "codemirror_mode": {
    "name": "ipython",
    "version": 3
   },
   "file_extension": ".py",
   "mimetype": "text/x-python",
   "name": "python",
   "nbconvert_exporter": "python",
   "pygments_lexer": "ipython3",
   "version": "3.7.3"
  }
 },
 "nbformat": 4,
 "nbformat_minor": 2
}
