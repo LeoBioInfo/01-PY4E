{
 "cells": [
  {
   "cell_type": "markdown",
   "metadata": {},
   "source": [
    "# 13 WebServices excercises\n",
    "\n"
   ]
  },
  {
   "cell_type": "markdown",
   "metadata": {},
   "source": [
    "## Extracting Data from XML\n",
    "\n",
    "n this assignment you will write a Python program somewhat similar to http://www.py4e.com/code3/geoxml.py. The program will prompt for a URL, read the XML data from that URL using urllib and then parse and extract the comment counts from the XML data, compute the sum of the numbers in the file.\n",
    "\n",
    "We provide two files for this assignment. One is a sample file where we give you the sum for your testing and the other is the actual data you need to process for the assignment.\n",
    "\n",
    "- Sample data: http://py4e-data.dr-chuck.net/comments_42.xml (Sum=2553)\n",
    "- Actual data: http://py4e-data.dr-chuck.net/comments_237570.xml (Sum ends with 26)\n",
    "\n",
    "You do not need to save these files to your folder since your program will read the data directly from the URL. Note: Each student will have a distinct data url for the assignment - so only use your own data url for analysis.\n",
    "\n",
    "### Data Format and Approach\n",
    "\n",
    "The data consists of a number of names and comment counts in XML as follows:\n",
    "```xml\n",
    "<comment>\n",
    "  <name>Matthias</name>\n",
    "  <count>97</count>\n",
    "</comment>\n",
    "```\n",
    "You are to look through all the <comment> tags and find the <count> values sum the numbers. The closest sample code that shows how to parse XML is geoxml.py. But since the nesting of the elements in our data is different than the data we are parsing in that sample code you will have to make real changes to the code.\n",
    "\n",
    "To make the code a little simpler, you can use an XPath selector string to look through the entire tree of XML for any tag named 'count' with the following line of code:\n",
    "```python\n",
    "counts = tree.findall('.//count')\n",
    "```\n",
    "Take a look at the Python ElementTree documentation and look for the supported XPath syntax for details. You could also work from the top of the XML down to the comments node and then loop through the child nodes of the comments node.Sample\n",
    "\n",
    "### Sample Execution\n",
    "```bash\n",
    "$ python3 solution.py\n",
    "Enter location: http://py4e-data.dr-chuck.net/comments_42.xml\n",
    "Retrieving http://py4e-data.dr-chuck.net/comments_42.xml\n",
    "Retrieved 4189 characters\n",
    "Count: 50\n",
    "Sum: 2...\n",
    "```"
   ]
  },
  {
   "cell_type": "code",
   "execution_count": 88,
   "metadata": {},
   "outputs": [
    {
     "name": "stdout",
     "output_type": "stream",
     "text": [
      "Enter location: http://py4e-data.dr-chuck.net/comments_237570.xml\n",
      "Retrieving http://py4e-data.dr-chuck.net/comments_237570.xml\n",
      "Retrieved 4212 characters\n",
      "Count:  50\n",
      "Sum:  2326\n"
     ]
    }
   ],
   "source": [
    "import xml.etree.ElementTree as ET\n",
    "import urllib.request, urllib.parse, urllib.error\n",
    "\n",
    "address = input('Enter location: ')\n",
    "if len(address) < 1:\n",
    "    address = 'http://py4e-data.dr-chuck.net/comments_42.xml'\n",
    "print('Retrieving', address)\n",
    "\n",
    "uh = urllib.request.urlopen(address)\n",
    "data = uh.read()\n",
    "print('Retrieved', len(data), 'characters')\n",
    "\n",
    "tree = ET.fromstring(data)\n",
    "comments = tree.findall('.//comment')\n",
    "print('Count: ', len(comments))\n",
    "\n",
    "total = 0\n",
    "for comment in comments:\n",
    "    total = total + int(comment.find('count').text)\n",
    "print('Sum: ', total)"
   ]
  },
  {
   "cell_type": "markdown",
   "metadata": {},
   "source": [
    "## Extracting Data from JSON\n",
    "\n",
    "In this assignment you will write a Python program somewhat similar to http://www.py4e.com/code3/json2.py. The program will prompt for a URL, read the JSON data from that URL using urllib and then parse and extract the comment counts from the JSON data, compute the sum of the numbers in the file and enter the sum below:\n",
    "\n",
    "We provide two files for this assignment. One is a sample file where we give you the sum for your testing and the other is the actual data you need to process for the assignment.\n",
    "\n",
    "- Sample data: http://py4e-data.dr-chuck.net/comments_42.json (Sum=2553)\n",
    "- Actual data: http://py4e-data.dr-chuck.net/comments_237571.json (Sum ends with 71)\n",
    "\n",
    "You do not need to save these files to your folder since your program will read the data directly from the URL. Note: Each student will have a distinct data url for the assignment - so only use your own data url for analysis.\n",
    "\n",
    "## Data Format\n",
    "\n",
    "The data consists of a number of names and comment counts in JSON as follows: \n",
    "\n",
    "```json\n",
    "{\n",
    "  comments: [\n",
    "    {\n",
    "      name: \"Matthias\"\n",
    "      count: 97\n",
    "    },\n",
    "    {\n",
    "      name: \"Geomer\"\n",
    "      count: 97\n",
    "    }\n",
    "    ...\n",
    "  ]\n",
    "}\n",
    "```\n",
    "\n",
    " The closest sample code that shows how to parse JSON and extract a list is json2.py. You might also want to look at geoxml.py to see how to prompt for a URL and retrieve data from a URL.\n",
    "\n",
    "## Sample Execution\n",
    "\n",
    "```bash\n",
    "$ python3 solution.py\n",
    "Enter location: http://py4e-data.dr-chuck.net/comments_42.json\n",
    "Retrieving http://py4e-data.dr-chuck.net/comments_42.json\n",
    "Retrieved 2733 characters\n",
    "Count: 50\n",
    "Sum: 2...\n",
    "```"
   ]
  },
  {
   "cell_type": "code",
   "execution_count": 108,
   "metadata": {},
   "outputs": [
    {
     "name": "stdout",
     "output_type": "stream",
     "text": [
      "Enter location: http://py4e-data.dr-chuck.net/comments_237571.json\n",
      "Retrieving http://py4e-data.dr-chuck.net/comments_237571.json\n",
      "Retrieved 2733 characters\n",
      "User count: 50\n",
      "Sum:  2571\n"
     ]
    }
   ],
   "source": [
    "import json\n",
    "import urllib.request, urllib.parse, urllib.error\n",
    "\n",
    "address = input('Enter location: ')\n",
    "if len(address) < 1:\n",
    "    address = 'http://py4e-data.dr-chuck.net/comments_42.json'\n",
    "print('Retrieving', address)\n",
    "\n",
    "uh = urllib.request.urlopen(address)\n",
    "data = uh.read()\n",
    "print('Retrieved', len(data), 'characters')\n",
    "\n",
    "\n",
    "info = json.loads(data)\n",
    "print('User count:', len(info['comments']))\n",
    "\n",
    "total = 0\n",
    "for item in info['comments']:\n",
    "    total = total + int(item['count'])\n",
    "print('Sum: ', total)    \n"
   ]
  },
  {
   "cell_type": "markdown",
   "metadata": {},
   "source": [
    "# Calling a JSON API\n",
    "In this assignment you will write a Python program somewhat similar to http://www.py4e.com/code3/geojson.py. The program will prompt for a location, contact a web service and retrieve JSON for the web service and parse that data, and retrieve the first **place_id** from the JSON. A place ID is a textual identifier that uniquely identifies a place as within Google Maps.\n",
    "\n",
    "## API End Points\n",
    "\n",
    "To complete this assignment, you should use this API endpoint that has a static subset of the Google Data:\n",
    "```python\n",
    "http://py4e-data.dr-chuck.net/json?\n",
    "```\n",
    "This API uses the same parameter (address) as the Google API. This API also has no rate limit so you can test as often as you like. If you visit the URL with no parameters, you get \"No address...\" response.\n",
    "\n",
    "To call the API, you need to provide address that you are requesting as the **address=** parameter that is properly URL encoded using the **urllib.urlencode()** fuction as shown in http://www.py4e.com/code3/geojson.py\n",
    "\n",
    "## Test Data / Sample Execution\n",
    "\n",
    "You can test to see if your program is working with a location of \"South Federal University\" which will have a place_id of \"ChIJNeHD4p-540AR2Q0_ZjwmKJ8\".\n",
    "\n",
    "```bash\n",
    "$ python3 solution.py\n",
    "Enter location: South Federal University\n",
    "Retrieving http://...\n",
    "Retrieved 2021 characters\n",
    "Place id ChIJNeHD4p-540AR2Q0_ZjwmKJ8\n",
    "```\n",
    "\n",
    "## Turn In\n",
    "\n",
    "Please run your program to find the place_id for this location:\n",
    "```python\n",
    "University of Belgrade\n",
    "```\n",
    "Make sure to enter the name and case exactly as above and enter the **place_id** and your Python code below. Hint: The first seven characters of the place_id are \"ChIJv_e ...\"\n",
    "\n",
    "Make sure to retreive the data from the URL specified above and **not** the normal Google API. Your program should work with the Google API - but the **place_id** may not match for this assignment. "
   ]
  },
  {
   "cell_type": "code",
   "execution_count": 124,
   "metadata": {},
   "outputs": [
    {
     "name": "stdout",
     "output_type": "stream",
     "text": [
      "Enter location: University of Belgrade\n",
      "Retrieving http://py4e-data.dr-chuck.net/json?address=University+of+Belgrade&key=42\n",
      "Retrieved 1945 characters\n",
      "Place id  ChIJv_ehNbN6WkcROV6HX6xX5Vc\n"
     ]
    }
   ],
   "source": [
    "import urllib.request, urllib.parse, urllib.error\n",
    "import json\n",
    "\n",
    "api_key = 42\n",
    "serviceurl = 'http://py4e-data.dr-chuck.net/json?'\n",
    "\n",
    "address = input('Enter location: ')\n",
    "if len(address) < 1:\n",
    "    address = 'South Federal University'\n",
    "\n",
    "parms = dict()\n",
    "parms['address'] = address\n",
    "\n",
    "parms['key'] = api_key\n",
    "url = serviceurl + urllib.parse.urlencode(parms)\n",
    "\n",
    "print('Retrieving', url)\n",
    "uh = urllib.request.urlopen(url, context=ctx)\n",
    "data = uh.read().decode()\n",
    "print('Retrieved', len(data), 'characters')\n",
    "\n",
    "js = json.loads(data)\n",
    "\n",
    "print('Place id ',js['results'][0]['place_id'])"
   ]
  }
 ],
 "metadata": {
  "kernelspec": {
   "display_name": "Python 3",
   "language": "python",
   "name": "python3"
  },
  "language_info": {
   "codemirror_mode": {
    "name": "ipython",
    "version": 3
   },
   "file_extension": ".py",
   "mimetype": "text/x-python",
   "name": "python",
   "nbconvert_exporter": "python",
   "pygments_lexer": "ipython3",
   "version": "3.7.3"
  }
 },
 "nbformat": 4,
 "nbformat_minor": 2
}
